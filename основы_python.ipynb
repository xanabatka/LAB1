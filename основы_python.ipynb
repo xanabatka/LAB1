{
  "cells": [
    {
      "cell_type": "markdown",
      "metadata": {
        "id": "M-DGa20PaHnu"
      },
      "source": [
        "#Задача 1\n",
        "Написать функцию на вход которой подается строка, состоящая из латинских букв.\n",
        "Функция должна вернуть количество гласных букв (a, e, i, o, u) в этой строке. Написать тесты для кода"
      ]
    },
    {
      "cell_type": "code",
      "execution_count": 1,
      "metadata": {
        "id": "XvX8X_JJ6PCb"
      },
      "outputs": [
        {
          "name": "stderr",
          "output_type": "stream",
          "text": [
            "......\n",
            "----------------------------------------------------------------------\n",
            "Ran 6 tests in 0.002s\n",
            "\n",
            "OK\n"
          ]
        },
        {
          "data": {
            "text/plain": [
              "<unittest.main.TestProgram at 0x15cf2ad4ce0>"
            ]
          },
          "execution_count": 1,
          "metadata": {},
          "output_type": "execute_result"
        }
      ],
      "source": [
        "import unittest\n",
        "import sys\n",
        "\n",
        "def count_vowels(s: str) -> int:\n",
        "    letters = \"aeiouAEIOU\"\n",
        "    return sum(1 for char in s if char in letters)\n",
        "\n",
        "\n",
        "sys.argv = ['']  \n",
        "\n",
        "class TestCountVowels(unittest.TestCase):\n",
        "    \n",
        "    def test_empty_string(self):\n",
        "        self.assertEqual(count_vowels(\"\"), 0) \n",
        "    \n",
        "    def test_no_vowels(self):\n",
        "        self.assertEqual(count_vowels(\"bcdfg\"), 0)  \n",
        "    \n",
        "    def test_all_vowels(self):\n",
        "        self.assertEqual(count_vowels(\"aeiou\"), 5)  \n",
        "    \n",
        "    def test_mixed_case(self):\n",
        "        self.assertEqual(count_vowels(\"AeIoU\"), 5)  \n",
        "    \n",
        "    def test_mixed_string(self):\n",
        "        self.assertEqual(count_vowels(\"hello world\"), 3)  \n",
        "\n",
        "    def test_uppercase(self):\n",
        "        self.assertEqual(count_vowels(\"HELLO\"), 2)  \n",
        "\n",
        "unittest.main(argv=[''], exit=False)"
      ]
    },
    {
      "cell_type": "markdown",
      "metadata": {
        "id": "t2ClV_Y0bbr6"
      },
      "source": [
        "# Задача 2\n",
        "Написать функцию на вход, которой подается строка. Функция должна вернуть true, если\n",
        "каждый символ в строке встречается только 1 раз, иначе должна вернуть false. Написать тесты для кода"
      ]
    },
    {
      "cell_type": "code",
      "execution_count": 2,
      "metadata": {
        "id": "FppbECao6VIz"
      },
      "outputs": [
        {
          "name": "stderr",
          "output_type": "stream",
          "text": [
            ".............\n",
            "----------------------------------------------------------------------\n",
            "Ran 13 tests in 0.003s\n",
            "\n",
            "OK\n"
          ]
        }
      ],
      "source": [
        "import unittest\n",
        "\n",
        "\n",
        "def unique_letters(s: str) -> bool:\n",
        "    return len(s) == len(set(s))\n",
        "\n",
        "\n",
        "class TestIsUnique(unittest.TestCase):\n",
        "    \n",
        "    def test_empty_string(self):\n",
        "        self.assertTrue(unique_letters(\"\"))  \n",
        "    \n",
        "    def test_unique_string(self):\n",
        "        self.assertTrue(unique_letters(\"abcdef\"))  \n",
        "    \n",
        "    def test_repeated_chars(self):\n",
        "        self.assertFalse(unique_letters(\"hello\")) \n",
        "    \n",
        "    def test_single_char(self):\n",
        "        self.assertTrue(unique_letters(\"a\")) \n",
        "    \n",
        "    def test_mixed_case(self):\n",
        "        self.assertTrue(unique_letters(\"AaBbCc\")) \n",
        "    \n",
        "    def test_numbers_and_symbols(self):\n",
        "        self.assertTrue(unique_letters(\"12345!@#\"))  \n",
        "\n",
        "    def test_non_unique_with_numbers(self):\n",
        "        self.assertFalse(unique_letters(\"123451\"))  \n",
        "\n",
        "if __name__ == \"__main__\":\n",
        "    unittest.main(argv=[''], exit=False)"
      ]
    },
    {
      "cell_type": "markdown",
      "metadata": {
        "id": "udRiIK1cdt6E"
      },
      "source": [
        "# Задача 3\n",
        "Написать функцию, которая принимает положительное число и возвращает количество\n",
        "бит равных 1 в этом числе. Написать тесты для кода"
      ]
    },
    {
      "cell_type": "code",
      "execution_count": 3,
      "metadata": {
        "id": "6tkfDJRz6dp_"
      },
      "outputs": [
        {
          "name": "stderr",
          "output_type": "stream",
          "text": [
            "..................\n",
            "----------------------------------------------------------------------\n",
            "Ran 18 tests in 0.005s\n",
            "\n",
            "OK\n"
          ]
        }
      ],
      "source": [
        "import unittest\n",
        "\n",
        "def count_ones(n: int) -> int:\n",
        "    return bin(n).count('1')\n",
        "\n",
        "\n",
        "class TestCountOnesInBinary(unittest.TestCase):\n",
        "    \n",
        "    def test_zero(self):\n",
        "        self.assertEqual(count_ones(0), 0)\n",
        "    \n",
        "    def test_one(self):\n",
        "        self.assertEqual(count_ones(1), 1) \n",
        "    \n",
        "    def test_five(self):\n",
        "        self.assertEqual(count_ones(5), 2)  \n",
        "    \n",
        "    def test_large_number(self):\n",
        "        self.assertEqual(count_ones(15), 4)  \n",
        "    \n",
        "    def test_power_of_two(self):\n",
        "        self.assertEqual(count_ones(8), 1)\n",
        "\n",
        "if __name__ == \"__main__\":\n",
        "    unittest.main(argv=[''], exit=False)\n"
      ]
    },
    {
      "cell_type": "markdown",
      "metadata": {
        "id": "26dDUz-Ae17N"
      },
      "source": [
        "# Задача 4\n",
        "Написать функцию, которая принимает положительное число. Функция должна вернуть то,\n",
        "сколько раз необходимо перемножать цифры числа или результат перемножения, чтобы\n",
        "получилось число состоящее из одной цифры.\n",
        "Например, для входного числа:\n",
        "· 39 функция должна вернуть 3, так как 3*9=27 => 2*7=14 => 1*4=4\n",
        "· 4 функция должна вернуть 0, так как число уже состоит из одной цифры\n",
        "· 999 функция должна вернуть 4, так как 9*9*9=729 => 7*2*9=126 => 1*2*6=12 =>\n",
        "1*2=2. Написать тесты для кода"
      ]
    },
    {
      "cell_type": "code",
      "execution_count": 4,
      "metadata": {
        "id": "BH1A_Mgi6i4G"
      },
      "outputs": [
        {
          "name": "stderr",
          "output_type": "stream",
          "text": [
            ".......................\n",
            "----------------------------------------------------------------------\n",
            "Ran 23 tests in 0.006s\n",
            "\n",
            "OK\n"
          ]
        }
      ],
      "source": [
        "import unittest\n",
        "\n",
        "def magic(n):\n",
        "    k = 0  \n",
        "    while n >= 10:  \n",
        "        p= 1\n",
        "        for digit in str(n):  \n",
        "            p *= int(digit)  \n",
        "        n = p \n",
        "        k += 1  \n",
        "    return k \n",
        "\n",
        "\n",
        "class TestPersistence(unittest.TestCase):\n",
        "    \n",
        "    def test_single_digit(self):\n",
        "        self.assertEqual(magic(4), 0) \n",
        "    \n",
        "    def test_two_digits(self):\n",
        "        self.assertEqual(magic(39), 3) \n",
        "    \n",
        "    def test_three_digits(self):\n",
        "        self.assertEqual(magic(999), 4)  \n",
        "    \n",
        "    def test_large_number(self):\n",
        "        self.assertEqual(magic(25), 2) \n",
        "    \n",
        "    def test_another_large_number(self):\n",
        "        self.assertEqual(magic(77), 4)  \n",
        "\n",
        "if __name__ == \"__main__\":\n",
        "    unittest.main(argv=[''], exit=False)"
      ]
    },
    {
      "cell_type": "markdown",
      "metadata": {
        "id": "0nS-kIa8g8vd"
      },
      "source": [
        "# Задача 5\n",
        "Написать функцию, которая принимает два целочисленных вектора одинаковой длины и\n",
        "возвращает среднеквадратическое отклонение двух векторов. Написать тесты для кода"
      ]
    },
    {
      "cell_type": "code",
      "execution_count": 5,
      "metadata": {
        "id": "8iphx4LM6xbx"
      },
      "outputs": [
        {
          "name": "stderr",
          "output_type": "stream",
          "text": [
            "............................\n",
            "----------------------------------------------------------------------\n",
            "Ran 28 tests in 0.007s\n",
            "\n",
            "OK\n"
          ]
        }
      ],
      "source": [
        "import math\n",
        "import unittest\n",
        "\n",
        "def mse(pred, true):\n",
        "    if len(pred) != len(true):\n",
        "        raise ValueError()\n",
        "    \n",
        "    squared_diff_sum = sum((v1 - v2) ** 2 for v1, v2 in zip(pred, true))\n",
        "    mean_squared_diff = squared_diff_sum / len(pred)\n",
        "    return math.sqrt(mean_squared_diff)\n",
        "\n",
        "class TestMSE(unittest.TestCase):\n",
        "    def test_equal_vectors(self):\n",
        "        v1 = [1, 2, 3]\n",
        "        v2 = [1, 2, 3]\n",
        "        self.assertEqual(mse(v1, v2), 0.0)\n",
        "\n",
        "    def test_different_vectors(self):\n",
        "        v1 = [1, 2, 3]\n",
        "        v2 = [4, 5, 6]\n",
        "        self.assertAlmostEqual(mse(v1, v2), 3.0, places=7)\n",
        "\n",
        "    def test_negative_values(self):\n",
        "        v1 = [-1, -2, -3]\n",
        "        v2 = [-4, -5, -6]\n",
        "        self.assertAlmostEqual(mse(v1, v2), 3.0, places=7)\n",
        "\n",
        "    def test_large_vectors(self):\n",
        "        v1 = [1000, 2000, 3000]\n",
        "        v2 = [1000, 2000, 3000]\n",
        "        self.assertEqual(mse(v1, v2), 0.0)\n",
        "\n",
        "    def test_value_error_on_different_length_vectors(self):\n",
        "        v1 = [1, 2, 3]\n",
        "        v2 = [1, 2]\n",
        "        with self.assertRaises(ValueError):\n",
        "            mse(v1, v2)\n",
        "\n",
        "if __name__ == '__main__':\n",
        "    unittest.main(argv=[''], exit=False)"
      ]
    },
    {
      "cell_type": "markdown",
      "metadata": {
        "id": "vpIPKL439zkw"
      },
      "source": [
        "# Задача 6\n",
        "Написать функцию, принимающая целое положительное число. Функция должна вернуть\n",
        "строку вида “(n1**p1)(n2**p2)…(nk**pk)” представляющая разложение числа на простые\n",
        "множители (если pi == 1, то выводить только ni).\n",
        "Например, для числа 86240 функция должна вернуть “(2**5)(5)(7**2)(11)”. Написать тесты для кода"
      ]
    },
    {
      "cell_type": "code",
      "execution_count": 6,
      "metadata": {
        "id": "pFebmcZk94Jw"
      },
      "outputs": [
        {
          "name": "stderr",
          "output_type": "stream",
          "text": [
            "..................................\n",
            "----------------------------------------------------------------------\n",
            "Ran 34 tests in 0.009s\n",
            "\n",
            "OK\n"
          ]
        }
      ],
      "source": [
        "import unittest\n",
        "\n",
        "def prime_factors(n):\n",
        "    factors = []\n",
        "    divisor = 2\n",
        "    while n > 1:\n",
        "        while n % divisor == 0:\n",
        "            factors.append(divisor)\n",
        "            n //= divisor\n",
        "        divisor += 1\n",
        "    return factors\n",
        "\n",
        "def format_factors(n):\n",
        "    factors = prime_factors(n)\n",
        "    factor_counts = {}\n",
        "    \n",
        "    for factor in factors:\n",
        "        if factor in factor_counts:\n",
        "            factor_counts[factor] += 1\n",
        "        else:\n",
        "            factor_counts[factor] = 1\n",
        "    \n",
        "    result = []\n",
        "    \n",
        "    for factor in sorted(factor_counts):\n",
        "        count = factor_counts[factor]\n",
        "        if count == 1:\n",
        "            result.append(f\"({factor})\")\n",
        "        else:\n",
        "            result.append(f\"({factor}**{count})\")\n",
        "    \n",
        "    return ''.join(result)\n",
        "\n",
        "class TestPrimeFactors(unittest.TestCase):\n",
        "    def test_prime_number(self):\n",
        "        self.assertEqual(format_factors(13), \"(13)\")\n",
        "\n",
        "    def test_power_of_two(self):\n",
        "        self.assertEqual(format_factors(32), \"(2**5)\")\n",
        "\n",
        "    def test_example_86240(self):\n",
        "        self.assertEqual(format_factors(86240), \"(2**5)(5)(7**2)(11)\")\n",
        "\n",
        "    def test_composite_number(self):\n",
        "        self.assertEqual(format_factors(360), \"(2**3)(3**2)(5)\")\n",
        "\n",
        "    def test_small_number(self):\n",
        "        self.assertEqual(format_factors(6), \"(2)(3)\")\n",
        "\n",
        "    def test_one(self):\n",
        "        self.assertEqual(format_factors(1), \"\")\n",
        "\n",
        "if __name__ == '__main__':\n",
        "    unittest.main(argv=[''], exit=False)"
      ]
    },
    {
      "cell_type": "markdown",
      "metadata": {
        "id": "ps2s0BudX7A2"
      },
      "source": [
        "# Задача 7\n",
        "Написать функцию, принимающая целое число n, задающее количество кубиков. Функция\n",
        "должна определить, можно ли из данного кол-ва кубиков построить пирамиду, то есть\n",
        "можно ли представить число n как 1^2+2^2+3^2+…+k^2. Если можно, то функция должна\n",
        "вернуть k, иначе строку “It is impossible”. Написать тесты для кода"
      ]
    },
    {
      "cell_type": "code",
      "execution_count": 7,
      "metadata": {
        "id": "3YPjEXxhX_YT"
      },
      "outputs": [
        {
          "name": "stderr",
          "output_type": "stream",
          "text": [
            ".......................................\n",
            "----------------------------------------------------------------------\n",
            "Ran 39 tests in 0.010s\n",
            "\n",
            "OK\n"
          ]
        }
      ],
      "source": [
        "import unittest\n",
        "\n",
        "def pyramid(number):\n",
        "    total = 0\n",
        "    k = 0\n",
        "    \n",
        "    while total < number:\n",
        "        k += 1\n",
        "        total += k ** 2\n",
        "    \n",
        "    if total == number:\n",
        "        return k\n",
        "    else:\n",
        "        return \"It is impossible\"\n",
        "\n",
        "class TestPyramidLevels(unittest.TestCase):\n",
        "    def test_possible_pyramid(self):\n",
        "        self.assertEqual(pyramid(14), 3) \n",
        "\n",
        "    def test_impossible_pyramid(self):\n",
        "        self.assertEqual(pyramid(15), \"It is impossible\")\n",
        "\n",
        "    def test_single_block(self):\n",
        "        self.assertEqual(pyramid(1), 1) \n",
        "\n",
        "    def test_large_possible_pyramid(self):\n",
        "        self.assertEqual(pyramid(30), 4) \n",
        "\n",
        "    def test_large_impossible_pyramid(self):\n",
        "        self.assertEqual(pyramid(50), \"It is impossible\") \n",
        "\n",
        "if __name__ == '__main__':\n",
        "    unittest.main(argv=[''], exit=False)"
      ]
    },
    {
      "cell_type": "markdown",
      "metadata": {
        "id": "KeKgmIdAQMEJ"
      },
      "source": [
        "# Задача 8\n",
        "Функция принимает на вход положительное число и определяет является ли оно сбалансированным, т.е. сумма цифр до средних равна сумме цифр после. Средними в случае нечетного числа цифр считать одну цифру, в случае четного - две средних. Написать тесты для кода"
      ]
    },
    {
      "cell_type": "code",
      "execution_count": 8,
      "metadata": {
        "id": "gMAAqtqlQrZt"
      },
      "outputs": [
        {
          "name": "stderr",
          "output_type": "stream",
          "text": [
            "..............................................\n",
            "----------------------------------------------------------------------\n",
            "Ran 46 tests in 0.012s\n",
            "\n",
            "OK\n"
          ]
        }
      ],
      "source": [
        "import unittest\n",
        "\n",
        "def balanced(n):\n",
        "    digits = list(map(int, str(n)))\n",
        "    length = len(digits)\n",
        "    \n",
        "    if length == 1:\n",
        "        return True \n",
        "\n",
        "    if length % 2 == 0:\n",
        "        left_sum = sum(digits[:length//2])\n",
        "        right_sum = sum(digits[length//2:])\n",
        "    else:\n",
        "        left_sum = sum(digits[:length//2])\n",
        "        right_sum = sum(digits[length//2 + 1:])\n",
        "\n",
        "    return left_sum == right_sum\n",
        "\n",
        "class TestIsBalanced(unittest.TestCase):\n",
        "    def test_single_digit(self):\n",
        "        self.assertTrue(balanced(5))\n",
        "\n",
        "    def test_even_balanced(self):\n",
        "        self.assertTrue(balanced(1221))\n",
        "\n",
        "    def test_even_not_balanced(self):\n",
        "        self.assertFalse(balanced(1234))\n",
        "\n",
        "    def test_odd_balanced(self):\n",
        "        self.assertTrue(balanced(12321))\n",
        "\n",
        "    def test_odd_not_balanced(self):\n",
        "        self.assertFalse(balanced(12341))\n",
        "\n",
        "    def test_large_balanced(self):\n",
        "        self.assertTrue(balanced(12300321))\n",
        "\n",
        "    def test_large_not_balanced(self):\n",
        "        self.assertFalse(balanced(12300322))\n",
        "\n",
        "if __name__ == '__main__':\n",
        "    unittest.main(argv=[''], exit=False)"
      ]
    }
  ],
  "metadata": {
    "colab": {
      "provenance": []
    },
    "kernelspec": {
      "display_name": "Python 3",
      "name": "python3"
    },
    "language_info": {
      "codemirror_mode": {
        "name": "ipython",
        "version": 3
      },
      "file_extension": ".py",
      "mimetype": "text/x-python",
      "name": "python",
      "nbconvert_exporter": "python",
      "pygments_lexer": "ipython3",
      "version": "3.12.6"
    }
  },
  "nbformat": 4,
  "nbformat_minor": 0
}
